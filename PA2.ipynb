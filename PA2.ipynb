{
 "cells": [
  {
   "cell_type": "code",
   "execution_count": 1,
   "id": "88951d0c-090b-4a21-8bd5-426cc51d8200",
   "metadata": {},
   "outputs": [],
   "source": [
    "import numpy as np"
   ]
  },
  {
   "cell_type": "code",
   "execution_count": 2,
   "id": "d616ee5d-dc2b-44e0-bd36-e5c5b2a80ee9",
   "metadata": {},
   "outputs": [],
   "source": [
    "# Random 5x5 array\n",
    "x = np.random.random ((5, 5))"
   ]
  },
  {
   "cell_type": "code",
   "execution_count": 3,
   "id": "050b1d97-63b2-45ba-9e51-cb9e1e1aba7d",
   "metadata": {},
   "outputs": [
    {
     "name": "stdout",
     "output_type": "stream",
     "text": [
      "Original Array (x): [[0.13876111 0.82520145 0.44485714 0.71333628 0.31701658]\n",
      " [0.93664084 0.40594239 0.98380147 0.29004238 0.65456719]\n",
      " [0.93580287 0.31902745 0.66210078 0.69087632 0.71626273]\n",
      " [0.01252822 0.22858308 0.69299579 0.23342117 0.32353685]\n",
      " [0.82795719 0.1249404  0.52648241 0.95777694 0.38326412]]\n",
      "Normalized array: [[-1.38090678  1.01845375 -0.31098898  0.62744397 -0.75783859]\n",
      " [ 1.40797523 -0.44701029  1.5728189  -0.85212331  0.42202447]\n",
      " [ 1.40504624 -0.75080986  0.44835713  0.54893818  0.63767299]\n",
      " [-1.82213697 -1.06694608  0.55634649 -1.05003518 -0.73504784]\n",
      " [ 1.02808605 -1.4292152  -0.02567877  1.48185363 -0.52627918]]\n",
      "Mean of normalized array: -9.325873406851315e-17\n",
      "Std of normalized array: 1.0\n"
     ]
    }
   ],
   "source": [
    "# Compute the mean and standard deviation\n",
    "x_mean = x.mean()\n",
    "x_std = x.std()\n",
    "\n",
    "# Normalizing the array\n",
    "x_norm = (x - x_mean) / x_std\n",
    "\n",
    "# Save normalized array to file\n",
    "np.save('x_normalized.npy', x_norm)\n",
    "\n",
    "# Output\n",
    "print(\"Original Array (x):\", x)\n",
    "print(\"Normalized array:\", x_norm)\n",
    "print(\"Mean of normalized array:\", x_norm.mean())\n",
    "print(\"Std of normalized array:\", x_norm.std())"
   ]
  },
  {
   "cell_type": "code",
   "execution_count": 4,
   "id": "0b5cc9c7-b97f-4293-89fd-6fcb3e63ede0",
   "metadata": {},
   "outputs": [],
   "source": [
    "# Create array of squares of first 100 integers\n",
    "A = np.arange(1, 101) ** 2\n",
    "\n",
    "# Resize to 10x10 array\n",
    "A.resize((10, 10))"
   ]
  },
  {
   "cell_type": "code",
   "execution_count": 5,
   "id": "0c505e7e-d3f8-4eb0-bbd2-81af74a43265",
   "metadata": {},
   "outputs": [
    {
     "name": "stdout",
     "output_type": "stream",
     "text": [
      "10x10 array of squares:\n",
      " [[    1     4     9    16    25    36    49    64    81   100]\n",
      " [  121   144   169   196   225   256   289   324   361   400]\n",
      " [  441   484   529   576   625   676   729   784   841   900]\n",
      " [  961  1024  1089  1156  1225  1296  1369  1444  1521  1600]\n",
      " [ 1681  1764  1849  1936  2025  2116  2209  2304  2401  2500]\n",
      " [ 2601  2704  2809  2916  3025  3136  3249  3364  3481  3600]\n",
      " [ 3721  3844  3969  4096  4225  4356  4489  4624  4761  4900]\n",
      " [ 5041  5184  5329  5476  5625  5776  5929  6084  6241  6400]\n",
      " [ 6561  6724  6889  7056  7225  7396  7569  7744  7921  8100]\n",
      " [ 8281  8464  8649  8836  9025  9216  9409  9604  9801 10000]]\n",
      "Numbers divisible by 3:\n",
      " [   9   36   81  144  225  324  441  576  729  900 1089 1296 1521 1764\n",
      " 2025 2304 2601 2916 3249 3600 3969 4356 4761 5184 5625 6084 6561 7056\n",
      " 7569 8100 8649 9216 9801]\n"
     ]
    }
   ],
   "source": [
    "# Extract elements divisible by 3\n",
    "div_3 = A[A % 3 == 0]\n",
    "\n",
    "# Save result\n",
    "np.save(\"div_by_3.npy\", div_3)\n",
    "\n",
    "# Checking results\n",
    "print(\"10x10 array of squares:\\n\", A)\n",
    "print(\"Numbers divisible by 3:\\n\", div_3)"
   ]
  },
  {
   "cell_type": "code",
   "execution_count": null,
   "id": "63d807ac-ccef-4758-a637-435b07c85c4a",
   "metadata": {},
   "outputs": [],
   "source": []
  }
 ],
 "metadata": {
  "kernelspec": {
   "display_name": "Python 3 (ipykernel)",
   "language": "python",
   "name": "python3"
  },
  "language_info": {
   "codemirror_mode": {
    "name": "ipython",
    "version": 3
   },
   "file_extension": ".py",
   "mimetype": "text/x-python",
   "name": "python",
   "nbconvert_exporter": "python",
   "pygments_lexer": "ipython3",
   "version": "3.13.5"
  }
 },
 "nbformat": 4,
 "nbformat_minor": 5
}
